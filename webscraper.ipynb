{
 "cells": [
  {
   "cell_type": "code",
   "execution_count": 4,
   "id": "de6fa6db-bd03-4b2b-87aa-ad4119a2328d",
   "metadata": {},
   "outputs": [],
   "source": [
    "import requests\n",
    "from bs4 import BeautifulSoup\n",
    "import pandas as pd"
   ]
  },
  {
   "cell_type": "markdown",
   "id": "aa46e532-c2fc-414a-8078-c53c7b7f8b37",
   "metadata": {},
   "source": [
    "# Function to fetch the webpage content\n",
    "def fetch_webpage(url):\n",
    "    response = requests.get(url)\n",
    "    if response.status_code == 200:\n",
    "        return response.content\n",
    "    else:\n",
    "        raise Exception(f\"Failed to load page {url}\")"
   ]
  },
  {
   "cell_type": "code",
   "execution_count": null,
   "id": "a50b8d01-3ad7-411e-aceb-3830d18d409b",
   "metadata": {},
   "outputs": [],
   "source": [
    "\n",
    "# Function to parse the webpage content and extract information\n",
    "def parse_webpage(content):\n",
    "    soup = BeautifulSoup(content, 'html.parser')\n",
    "    articles = soup.find_all('article')\n",
    "    data = []\n",
    "    for article in articles:\n",
    "        title = article.find('h2').get_text(strip=True)\n",
    "        link = article.find('a')['href']\n",
    "        data.append({\"Title\": title, \"Link\": link})\n",
    "    return data\n",
    "\n",
    "# Main function to scrape the website and save data to CSV\n",
    "def scrape_website(url, output_file):\n",
    "    content = fetch_webpage(url)\n",
    "    data = parse_webpage(content)\n",
    "    df = pd.DataFrame(data)\n",
    "    df.to_csv(output_file, index=False)\n",
    "    print(f\"Data saved to {output_file}\")\n",
    "\n",
    "# URL of the website to scrape\n",
    "url = 'https://vegamovies.lu/'\n",
    "output_file = 'news_articles.csv'\n",
    "\n",
    "# Run the scraper\n",
    "scrape_website(url, output_file)"
   ]
  }
 ],
 "metadata": {
  "kernelspec": {
   "display_name": "Python 3 (ipykernel)",
   "language": "python",
   "name": "python3"
  },
  "language_info": {
   "codemirror_mode": {
    "name": "ipython",
    "version": 3
   },
   "file_extension": ".py",
   "mimetype": "text/x-python",
   "name": "python",
   "nbconvert_exporter": "python",
   "pygments_lexer": "ipython3",
   "version": "3.11.5"
  }
 },
 "nbformat": 4,
 "nbformat_minor": 5
}
